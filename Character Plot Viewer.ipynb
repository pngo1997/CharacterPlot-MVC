{
 "cells": [
  {
   "cell_type": "markdown",
   "id": "4dbc3971-ec00-4ff8-b577-9072af64645d",
   "metadata": {},
   "source": [
    "#### Student Name: Mai Ngo\n",
    "#### Course Name and Number: DSC 430 Python Programming\n",
    "#### Assignment Name and Number: DSC430_Assignment0801_PlotViewer\n",
    "#### Date: 2/27/2023\n",
    "#### Honor Statement: “I have not given or received any unauthorized assistance on this assignment.\""
   ]
  },
  {
   "cell_type": "markdown",
   "id": "0e841d7a-4dec-4214-a973-7f9627d2bddc",
   "metadata": {},
   "source": [
    "#### Question 1: How the PlotViewer registers the generators. "
   ]
  },
  {
   "cell_type": "markdown",
   "id": "94d076eb-2cf0-4bbe-8ac6-a47338827953",
   "metadata": {},
   "source": [
    "By calling def 'registerPlotGenerator()' which has an instance 'self.pg' that connects to base class SimplePlotGenerator. \\\n",
    "Base class SimplePlotGenerator also has a def 'registerPlotViewer()' to retrieve that instance now called 'self.pv' and able to pass on to both inherited InteractivePlotGenerator and RandomPlotGenerator classes."
   ]
  },
  {
   "cell_type": "markdown",
   "id": "9f37fd01-1a67-4c4b-abd5-e7fbe37ff27e",
   "metadata": {},
   "source": [
    "#### Question 2: How the PlotViewer sends the request to generate plots to the plot generator. "
   ]
  },
  {
   "cell_type": "markdown",
   "id": "9060502c-dc3c-4f68-8d44-8ca560c3d511",
   "metadata": {},
   "source": [
    "When the user chose one of the three Plot Generators, instance variable 'self.pg' is passed on to base class as 'self.pv'. \\\n",
    "Depend on the chosen plot generator, the instance variable will be applied to chosen class."
   ]
  },
  {
   "cell_type": "markdown",
   "id": "4596b528-f544-4e93-8f07-a4a6be824531",
   "metadata": {},
   "source": [
    "#### Question 3: How the PlotViewer is able to accept requests for user input from the plot generators."
   ]
  },
  {
   "cell_type": "markdown",
   "id": "4d4a758c-4fa8-4865-911a-29844849d199",
   "metadata": {},
   "source": [
    "This is specifically applicable for class InteractivePlotGenerator. \\\n",
    "When instance 'self.pg' is passed on to the class InteractivePlotGenerator, calling def generate() will run def userChoice() specifically to ask for user input. \\\n",
    "This is the only class requires user input interaction."
   ]
  },
  {
   "cell_type": "markdown",
   "id": "7296af8e-a743-4c78-b499-500fc182034d",
   "metadata": {},
   "source": [
    "#### Question 4: How the PlotViewer accepts and presents the plots created by the plot generators."
   ]
  },
  {
   "cell_type": "markdown",
   "id": "f88e542d-a0ab-4449-b95c-50b9a7af72a4",
   "metadata": {},
   "source": [
    "Accept: Instance 'self.pg' is 'self.pv' in the corresponding chosen plot generator. Plot is presented by however def generate() is coded in chosen class. \\\n",
    "Overall, def generate() is called and plot will be created/presented depends on which plot generator is chosen in PlotViewer 'print (self.pg.generate())'"
   ]
  },
  {
   "cell_type": "code",
   "execution_count": 1,
   "id": "b6bf0a64-57ca-447a-99a5-aef8cb43b5a1",
   "metadata": {},
   "outputs": [
    {
     "name": "stdout",
     "output_type": "stream",
     "text": [
      "Requirement already satisfied: ipynb in c:\\users\\maimu\\anaconda3\\lib\\site-packages (0.5.1)\n"
     ]
    }
   ],
   "source": [
    "!pip install ipynb\n",
    "from ipynb.fs.defs.DSC430_Assignment0801_PlotGenerator import SimplePlotGenerator, RandomPlotGenerator, InteractivePlotGenerator\n",
    "import random\n",
    "import math"
   ]
  },
  {
   "cell_type": "code",
   "execution_count": 2,
   "id": "2d49a636-e9d3-4593-826b-1aa65f3b89c7",
   "metadata": {},
   "outputs": [],
   "source": [
    "class PlotViewer:\n",
    "    '''Serve as both the view and controller for the three plot generator classes.'''\n",
    "    \n",
    "    def registerPlotGenerator(self, pg):\n",
    "    #Callback function to accepts and presents the plots.\n",
    "        self.pg = pg\n",
    "        self.pg.registerPlotViewer(self)\n",
    "        #Passing 'self.pg' instance variable to plot generators using def registerPlotViewer()\n",
    "\n",
    "    def generate(self):\n",
    "    #Calling and present def generate() for chosen plot generator. \n",
    "        print (self.pg.generate())\n",
    "        \n",
    "    def userChoice(self, request, wordList):\n",
    "    #Return user's choice given 5 random words from each text file.\n",
    "    #Equal to queryUser in DieRollerExample.\n",
    "        \n",
    "        self = self.pg\n",
    "        #To call 'self.pv' in plot generator.\n",
    "        #'self.pv' will passed to InteractivePlotGenerator.\n",
    "        \n",
    "        wordChoices = random.sample(wordList, 5)\n",
    "        #Randomly sampling 5 items from wordList. This will be a list.\n",
    "        print(request)\n",
    "        #Print request for each choice.\n",
    "        \n",
    "        for i, word in enumerate(wordChoices, 1):\n",
    "        #Add a counter for each option starting from 1. There should be 5 counters. \n",
    "        \n",
    "            print(f\"{i}: {word}\")\n",
    "            #Print random word with its index. \n",
    "            \n",
    "        while True:\n",
    "            choice = input(\"Please enter the number of your choice: \")\n",
    "            #After giving 5 word options of each text file. Asking user to chose word from 1 to 5.\n",
    "            if choice.isdigit() and int(choice) in range(1, 6):\n",
    "            #User must enter number between 1 and 5.\n",
    "                \n",
    "                index = int(choice) - 1\n",
    "                #Index counter for each word, '-1' because index starts from '0'. Shows to viewer as '1'\n",
    "                return wordChoices[index]\n",
    "                #Return the chosen word in the random.sample wordChoices.\n",
    "            \n",
    "            else:\n",
    "            #If user enters anything else.\n",
    "                print(\"Invalid choice, please enter a NUMBER between 1 and 5: \")"
   ]
  },
  {
   "cell_type": "code",
   "execution_count": 3,
   "id": "2490754b-cfd0-4ab7-b928-61349fc3b1cd",
   "metadata": {},
   "outputs": [
    {
     "name": "stdout",
     "output_type": "stream",
     "text": [
      "Something happens\n"
     ]
    }
   ],
   "source": [
    "pv = PlotViewer()\n",
    "pv.registerPlotGenerator(SimplePlotGenerator())\n",
    "pv.generate()"
   ]
  },
  {
   "cell_type": "code",
   "execution_count": 4,
   "id": "4f2d430e-b2c3-48e6-9a12-202ca2fa4065",
   "metadata": {},
   "outputs": [
    {
     "name": "stdout",
     "output_type": "stream",
     "text": [
      "Keaton Wu, a precious clerk , must snare the bossy illusionist, Jonathan Gemmell.\n"
     ]
    }
   ],
   "source": [
    "pv.registerPlotGenerator(RandomPlotGenerator())\n",
    "pv.generate()"
   ]
  },
  {
   "cell_type": "code",
   "execution_count": 5,
   "id": "c0bef0c4-ed30-4380-9509-2cc5ab3f5042",
   "metadata": {},
   "outputs": [
    {
     "name": "stdout",
     "output_type": "stream",
     "text": [
      "Choose a hero's name from the following list:\n",
      "1: Jessie Bradford (Brad)\n",
      "2: Marnie Bright\n",
      "3: Ajay Vang\n",
      "4: Eden Hodge\n",
      "5: Rowan Harrell\n"
     ]
    },
    {
     "name": "stdin",
     "output_type": "stream",
     "text": [
      "Please enter the number of your choice:  5\n"
     ]
    },
    {
     "name": "stdout",
     "output_type": "stream",
     "text": [
      "Choose a hero's adjective from the following list:\n",
      "1: panicky\n",
      "2: fluffy\n",
      "3: coordinated\n",
      "4: typical\n",
      "5: magical\n"
     ]
    },
    {
     "name": "stdin",
     "output_type": "stream",
     "text": [
      "Please enter the number of your choice:  4\n"
     ]
    },
    {
     "name": "stdout",
     "output_type": "stream",
     "text": [
      "Choose a hero's profesion from the following list:\n",
      "1: harper\n",
      "2: embroiderer \n",
      "3: quarryman\n",
      "4: drywaller\n",
      "5: gunstocker\n"
     ]
    },
    {
     "name": "stdin",
     "output_type": "stream",
     "text": [
      "Please enter the number of your choice:  3\n"
     ]
    },
    {
     "name": "stdout",
     "output_type": "stream",
     "text": [
      "Choose a verb from the following list:\n",
      "1: beat\n",
      "2: transform\n",
      "3: serve\n",
      "4: watch\n",
      "5: assist\n"
     ]
    },
    {
     "name": "stdin",
     "output_type": "stream",
     "text": [
      "Please enter the number of your choice:  2\n"
     ]
    },
    {
     "name": "stdout",
     "output_type": "stream",
     "text": [
      "Choose an evil's adjective from the following list:\n",
      "1: high and mighty\n",
      "2: villainous\n",
      "3: harmful\n",
      "4: hideous\n",
      "5: foul\n"
     ]
    },
    {
     "name": "stdin",
     "output_type": "stream",
     "text": [
      "Please enter the number of your choice:  1\n"
     ]
    },
    {
     "name": "stdout",
     "output_type": "stream",
     "text": [
      "Choose an evil's job from the following list:\n",
      "1: despot\n",
      "2: butcher\n",
      "3: cutthroat\n",
      "4: pirate\n",
      "5: larcenist\n"
     ]
    },
    {
     "name": "stdin",
     "output_type": "stream",
     "text": [
      "Please enter the number of your choice:  2\n"
     ]
    },
    {
     "name": "stdout",
     "output_type": "stream",
     "text": [
      "Choose an evil's name from the following list:\n",
      "1: Ukara Strain\n",
      "2: Elissa Monroe\n",
      "3: Chrom Diablos\n",
      "4: Shayde Razor\n",
      "5: Acheron Redwood\n"
     ]
    },
    {
     "name": "stdin",
     "output_type": "stream",
     "text": [
      "Please enter the number of your choice:  3\n"
     ]
    },
    {
     "name": "stdout",
     "output_type": "stream",
     "text": [
      "Rowan Harrell, a typical quarryman, must transform the high and mighty butcher, Chrom Diablos.\n"
     ]
    }
   ],
   "source": [
    "pv.registerPlotGenerator(InteractivePlotGenerator())\n",
    "pv.generate()"
   ]
  },
  {
   "cell_type": "code",
   "execution_count": null,
   "id": "1a918226-b224-4fb5-9f5e-0104009a9a8d",
   "metadata": {},
   "outputs": [],
   "source": []
  }
 ],
 "metadata": {
  "kernelspec": {
   "display_name": "Python 3 (ipykernel)",
   "language": "python",
   "name": "python3"
  },
  "language_info": {
   "codemirror_mode": {
    "name": "ipython",
    "version": 3
   },
   "file_extension": ".py",
   "mimetype": "text/x-python",
   "name": "python",
   "nbconvert_exporter": "python",
   "pygments_lexer": "ipython3",
   "version": "3.9.13"
  }
 },
 "nbformat": 4,
 "nbformat_minor": 5
}
