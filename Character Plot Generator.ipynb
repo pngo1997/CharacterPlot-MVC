{
 "cells": [
  {
   "cell_type": "markdown",
   "id": "cceffcd1-c95c-46d3-a8c4-50d7d5c7a6a0",
   "metadata": {},
   "source": [
    "#### Student Name: Mai Ngo\n",
    "#### Course Name and Number: DSC 430 Python Programming\n",
    "#### Assignment Name and Number: DSC430_Assignment0801_PlotGenerator\n",
    "#### Date: 2/27/2023\n",
    "#### Honor Statement: “I have not given or received any unauthorized assistance on this assignment.\""
   ]
  },
  {
   "cell_type": "markdown",
   "id": "db6cf937-a649-42d9-b7ea-22af65e1c4cd",
   "metadata": {},
   "source": [
    "#### Assumptions:"
   ]
  },
  {
   "cell_type": "markdown",
   "id": "39e733e1-2787-440a-b697-35a823367e55",
   "metadata": {},
   "source": [
    "Text file Villain_job has incorrect spell name. I stick with given name for the homework \"plot_villian_job.txt\" \\\n",
    "Text file Profession has incorrect spell name. I stick with given name for the homework \"plot_profesions.txt\""
   ]
  },
  {
   "cell_type": "markdown",
   "id": "d3d2f871-8805-4d10-9c09-e7e5c975d968",
   "metadata": {},
   "source": [
    "#### Question 1: How you randomly produce a plot in RandomPlotGenerator."
   ]
  },
  {
   "cell_type": "markdown",
   "id": "b80ae09f-170c-4211-9ade-ea8962290e92",
   "metadata": {},
   "source": [
    "    * I used random.choice to pick a word out of the word list 'wordList' of each text file.\n",
    "    * There are 7 wordList lists from class SimplePlotGenerator."
   ]
  },
  {
   "cell_type": "markdown",
   "id": "1b16830e-215d-453a-8c68-c79eb651d25e",
   "metadata": {},
   "source": [
    "#### Question 2: How you manage user input in InteractivePlotGenerator when you are connected to a view/controller."
   ]
  },
  {
   "cell_type": "markdown",
   "id": "8d6049eb-1787-4a4d-ba2d-8b33899168d2",
   "metadata": {},
   "source": [
    "In the view/controller, I will create a def 'registerPlotGenerator()' which has an instance 'self.pg' that connects to base class SimplePlotGenerator. \\\n",
    "Base class SimplePlotGenerator also has a def 'registerPlotViewer()' to retrieve that instance 'self.pv' and able to pass on to InteractivePlotGenerator since its inherits base class. \\\n",
    "With this, def userInput() to ask for input. And print def generate() to produce output will stay on view/controller."
   ]
  },
  {
   "cell_type": "code",
   "execution_count": 1,
   "id": "3a9603c4-46d3-4e3f-888e-7ec86e494e48",
   "metadata": {},
   "outputs": [],
   "source": [
    "import random"
   ]
  },
  {
   "cell_type": "code",
   "execution_count": 2,
   "id": "992a0c1e-9ec2-4f72-a83e-5abc544c7f85",
   "metadata": {},
   "outputs": [],
   "source": [
    "class SimplePlotGenerator:\n",
    "    '''Base class that returns \"Something happens.\" when generate()'''\n",
    "    \n",
    "    def generate(self):\n",
    "    #Returns \"Something happens.\"\n",
    "        return \"Something happens\"\n",
    "    \n",
    "    def registerPlotViewer(self, pv):\n",
    "    #Calling instance from view/controller PlotViewer.\n",
    "    #self.pv can be passed on to RandomPlotGenerator and InteractivePlotGenerator.\n",
    "        self.pv = pv\n",
    "\n",
    "    def __init__(self):\n",
    "    #Initialization of data in each text file.\n",
    "    \n",
    "        self.fileList = [\"plot_names.txt\", \"plot_adjectives.txt\", \"plot_profesions.txt\", \"plot_verbs.txt\", \n",
    "                         \"plot_adjectives_evil.txt\", \"plot_villian_job.txt\", \"plot_villains.txt\"]\n",
    "        #Assign self.fileList of all files to generate plot.\n",
    "        \n",
    "        self.data = {}\n",
    "        #Assign self.data as dictionary. \n",
    "        #Key would be file name/ Value would be acorresponding word within the file.\n",
    "        \n",
    "        for file in self.fileList:\n",
    "        #Iterate through each file in self.fileList.\n",
    "            self.data[file] = self.getWord(file)\n",
    "            #Adding file and corresponding words within the file to self.data dictionary. \n",
    "        \n",
    "        self.plot_names = self.data[\"plot_names.txt\"]\n",
    "        self.plot_adjectives = self.data[\"plot_adjectives.txt\"]\n",
    "        self.plot_profesions = self.data[\"plot_profesions.txt\"]\n",
    "        self.plot_verbs = self.data[\"plot_verbs.txt\"]\n",
    "        self.plot_adjectives_evil = self.data[\"plot_adjectives_evil.txt\"]\n",
    "        self.plot_villian_jobs = self.data[\"plot_villian_job.txt\"]\n",
    "        self.plot_villains = self.data[\"plot_villains.txt\"]\n",
    "        #Each variable is a list of all corresponding words in the text file.\n",
    "        \n",
    "    def getWord(self, filename):\n",
    "    #Open a file and retrieve content as a list of 'string' words.\n",
    "    \n",
    "        with open(filename, \"r\") as file:\n",
    "        #Open chosen file with 'read' mode.\n",
    "            wordList = file.read().splitlines()\n",
    "            #Read() will return a string of all words.\n",
    "            #Splitlines() will split above string into a list of words.\n",
    "            \n",
    "        return wordList"
   ]
  },
  {
   "cell_type": "code",
   "execution_count": 3,
   "id": "b8272ea6-cbe8-42ab-a271-f628a6bfe8ac",
   "metadata": {},
   "outputs": [],
   "source": [
    "class RandomPlotGenerator(SimplePlotGenerator):\n",
    "    '''Returns a random plot with seven words. Each word produced from seven files.'''\n",
    "    #Inherits SimplePlotGenerator.\n",
    "    \n",
    "    def generate(self):\n",
    "    #Returns a random plot produced from the seven files.\n",
    "    \n",
    "        plot_name = random.choice(self.plot_names)\n",
    "        plot_adjective = random.choice(self.plot_adjectives)\n",
    "        plot_profesion = random.choice(self.plot_profesions)\n",
    "        plot_verb = random.choice(self.plot_verbs)\n",
    "        plot_adjective_evil = random.choice(self.plot_adjectives_evil)\n",
    "        plot_villian_job = random.choice(self.plot_villian_jobs)\n",
    "        plot_villain = random.choice(self.plot_villains)\n",
    "        #Random.choice() randomly selected a word from each list of words.\n",
    "        \n",
    "        return f\"{plot_name}, a {plot_adjective} {plot_profesion}, must {plot_verb} the {plot_adjective_evil} {plot_villian_job}, {plot_villain}.\"\n",
    "        #Return the plot with above format."
   ]
  },
  {
   "cell_type": "code",
   "execution_count": 4,
   "id": "c85926dc-3952-4aef-953d-7f3d00fedffa",
   "metadata": {},
   "outputs": [],
   "source": [
    "class InteractivePlotGenerator(SimplePlotGenerator):\n",
    "    '''Return a final plot after user choses seven words from seven files.'''\n",
    "    #Inhertis SimplePlotGenerator.\n",
    "    #Give user 5 word options for each text file.\n",
    "    \n",
    "    def generate(self):\n",
    "    #Returns a final plot produced from the seven files.\n",
    "        \n",
    "        plot_name = self.pv.userChoice(\"Choose a hero's name from the following list:\", self.plot_names)\n",
    "        plot_adjective = self.pv.userChoice(\"Choose a hero's adjective from the following list:\", self.plot_adjectives)\n",
    "        plot_profesion = self.pv.userChoice(\"Choose a hero's profesion from the following list:\", self.plot_profesions)\n",
    "        plot_verb = self.pv.userChoice(\"Choose a verb from the following list:\", self.plot_verbs)\n",
    "        plot_adjective_evil = self.pv.userChoice(\"Choose an evil's adjective from the following list:\", self.plot_adjectives_evil)\n",
    "        plot_villian_job = self.pv.userChoice(\"Choose an evil's job from the following list:\", self.plot_villian_jobs)\n",
    "        plot_villain = self.pv.userChoice(\"Choose an evil's name from the following list:\", self.plot_villains)\n",
    "        #Calling def userChoice() to retrieve chosen word from user. \n",
    "        #self.plot_names....... self.plot_villains: are lists of words in corresponding file.\n",
    "        \n",
    "        return f\"{plot_name}, a {plot_adjective} {plot_profesion}, must {plot_verb} the {plot_adjective_evil} {plot_villian_job}, {plot_villain}.\"\n",
    "        #Return the plot with above format."
   ]
  },
  {
   "cell_type": "code",
   "execution_count": null,
   "id": "fcc1bddd-5ee2-41c8-b81a-532f918f29dc",
   "metadata": {},
   "outputs": [],
   "source": []
  }
 ],
 "metadata": {
  "kernelspec": {
   "display_name": "Python 3 (ipykernel)",
   "language": "python",
   "name": "python3"
  },
  "language_info": {
   "codemirror_mode": {
    "name": "ipython",
    "version": 3
   },
   "file_extension": ".py",
   "mimetype": "text/x-python",
   "name": "python",
   "nbconvert_exporter": "python",
   "pygments_lexer": "ipython3",
   "version": "3.9.13"
  }
 },
 "nbformat": 4,
 "nbformat_minor": 5
}
